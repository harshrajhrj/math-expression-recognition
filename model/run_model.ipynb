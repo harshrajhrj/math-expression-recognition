{
 "cells": [
  {
   "cell_type": "code",
   "execution_count": 1,
   "id": "975235ec",
   "metadata": {},
   "outputs": [],
   "source": [
    "from train import train, preprocess_generate_expression_dataset, decode_prediction, run_inference, infer_single_image, NUM_CLASSES"
   ]
  },
  {
   "cell_type": "code",
   "execution_count": 2,
   "id": "4983cd11",
   "metadata": {},
   "outputs": [],
   "source": [
    "from mathsolver import MathSolverModel"
   ]
  },
  {
   "cell_type": "code",
   "execution_count": 3,
   "id": "ba6ce756",
   "metadata": {},
   "outputs": [],
   "source": [
    "import torch\n",
    "import matplotlib.pyplot as plt"
   ]
  },
  {
   "cell_type": "code",
   "execution_count": 4,
   "id": "423239fb",
   "metadata": {},
   "outputs": [],
   "source": [
    "device = torch.device(\"cuda\" if torch.cuda.is_available() else \"cpu\")"
   ]
  },
  {
   "cell_type": "code",
   "execution_count": 5,
   "id": "ecaab84b",
   "metadata": {},
   "outputs": [],
   "source": [
    "# train_loader, test_loader, val_loader = preprocess_generate_expression_dataset(num_samples=20000, batch_size=64)"
   ]
  },
  {
   "cell_type": "code",
   "execution_count": 6,
   "id": "8074ebf7",
   "metadata": {},
   "outputs": [],
   "source": [
    "# epoch_vs_loss = train(train_loader=train_loader, val_loader=val_loader, num_epochs=20, device=device, step_size=5, patience=5)"
   ]
  },
  {
   "cell_type": "code",
   "execution_count": 7,
   "id": "35a058ce",
   "metadata": {},
   "outputs": [],
   "source": [
    "metrics_folder = \"results\""
   ]
  },
  {
   "cell_type": "code",
   "execution_count": 8,
   "id": "3af7d976",
   "metadata": {},
   "outputs": [],
   "source": [
    "# save epoch vs loss to metrics_folder\n",
    "# with open(f\"{metrics_folder}/checkpoint_three/epoch_vs_loss.txt\", \"w\") as f:\n",
    "#     for epoch, loss in epoch_vs_loss.items():\n",
    "#         f.write(f\"Epoch {epoch + 1}: {loss}\\n\")"
   ]
  },
  {
   "cell_type": "code",
   "execution_count": 9,
   "id": "08c92601",
   "metadata": {},
   "outputs": [],
   "source": [
    "# plt.plot(epoch_vs_loss.keys(), epoch_vs_loss.values(), label='Train Loss')\n",
    "# plt.title('Train Loss vs Epochs')\n",
    "# plt.xlabel('Epochs')\n",
    "# plt.ylabel('Train Loss')\n",
    "# plt.legend()\n",
    "# plt.show()"
   ]
  },
  {
   "cell_type": "code",
   "execution_count": 10,
   "id": "9542c648",
   "metadata": {},
   "outputs": [
    {
     "data": {
      "text/plain": [
       "<All keys matched successfully>"
      ]
     },
     "execution_count": 10,
     "metadata": {},
     "output_type": "execute_result"
    }
   ],
   "source": [
    "model = MathSolverModel(num_classes=NUM_CLASSES).to(device)\n",
    "model.load_state_dict(torch.load(\"results/checkpoint_two/math_solver.pth\"))"
   ]
  },
  {
   "cell_type": "code",
   "execution_count": null,
   "id": "2779db32",
   "metadata": {},
   "outputs": [
    {
     "name": "stdout",
     "output_type": "stream",
     "text": [
      "cnn.0.weight torch.Size([64, 1, 3, 3])\n",
      "cnn.0.bias torch.Size([64])\n",
      "cnn.3.weight torch.Size([128, 64, 3, 3])\n",
      "cnn.3.bias torch.Size([128])\n",
      "rnn.weight_ih_l0 torch.Size([1024, 1024])\n",
      "rnn.weight_hh_l0 torch.Size([1024, 256])\n",
      "rnn.bias_ih_l0 torch.Size([1024])\n",
      "rnn.bias_hh_l0 torch.Size([1024])\n",
      "rnn.weight_ih_l0_reverse torch.Size([1024, 1024])\n",
      "rnn.weight_hh_l0_reverse torch.Size([1024, 256])\n",
      "rnn.bias_ih_l0_reverse torch.Size([1024])\n",
      "rnn.bias_hh_l0_reverse torch.Size([1024])\n",
      "rnn.weight_ih_l1 torch.Size([1024, 512])\n",
      "rnn.weight_hh_l1 torch.Size([1024, 256])\n",
      "rnn.bias_ih_l1 torch.Size([1024])\n",
      "rnn.bias_hh_l1 torch.Size([1024])\n",
      "rnn.weight_ih_l1_reverse torch.Size([1024, 512])\n",
      "rnn.weight_hh_l1_reverse torch.Size([1024, 256])\n",
      "rnn.bias_ih_l1_reverse torch.Size([1024])\n",
      "rnn.bias_hh_l1_reverse torch.Size([1024])\n",
      "fc.weight torch.Size([15, 512])\n",
      "fc.bias torch.Size([15])\n"
     ]
    }
   ],
   "source": [
    "# for name, param in model.named_parameters():\n",
    "#     # if param.requires_grad:\n",
    "#         print(name, param.shape)"
   ]
  },
  {
   "cell_type": "code",
   "execution_count": 26,
   "id": "01e7a99f",
   "metadata": {},
   "outputs": [
    {
     "name": "stdout",
     "output_type": "stream",
     "text": [
      "Block: 0, Output shape: torch.Size([1, 64, 32, 32])\n",
      "Block: 1, Output shape: torch.Size([1, 64, 32, 32])\n",
      "Block: 2, Output shape: torch.Size([1, 64, 16, 16])\n",
      "Block: 3, Output shape: torch.Size([1, 128, 16, 16])\n",
      "Block: 4, Output shape: torch.Size([1, 128, 16, 16])\n",
      "Block: 5, Output shape: torch.Size([1, 128, 8, 8])\n"
     ]
    }
   ],
   "source": [
    "sample_tensor = torch.randn(1, 1, 32, 32).to(device)  # Example input tensor\n",
    "x = sample_tensor\n",
    "for name, layer in model.cnn.named_children():\n",
    "    x = layer(x)\n",
    "    print(f\"Block: {name}, Output shape: {x.shape}\")"
   ]
  },
  {
   "cell_type": "code",
   "execution_count": 27,
   "id": "fb646282",
   "metadata": {},
   "outputs": [
    {
     "name": "stdout",
     "output_type": "stream",
     "text": [
      "torch.Size([1, 8, 1024])\n"
     ]
    }
   ],
   "source": [
    "b, c, h, w = x.size()\n",
    "x = x.permute(0, 3, 1, 2).contiguous()  # (B, W, C, H)\n",
    "x = x.view(b, w, c * h)  # (B, W, C*H)\n",
    "print(x.shape)\n",
    "for name, layer in model.rnn.named_children():\n",
    "    x = layer(x)\n",
    "    print(f\"Block: {name}, Output shape: {x.shape}\")"
   ]
  },
  {
   "cell_type": "code",
   "execution_count": 14,
   "id": "643952d9",
   "metadata": {},
   "outputs": [],
   "source": [
    "# from PIL import Image\n",
    "# import os\n",
    "\n",
    "# # Create a folder to save the images\n",
    "# output_folder = \"results/checkpoint_three/test_images\"\n",
    "# os.makedirs(output_folder, exist_ok=True)\n",
    "\n",
    "# # Save images from test_loader\n",
    "# for idx, (imgs, labels, input_lengths, label_lengths) in enumerate(test_loader):\n",
    "#     for i, image in enumerate(imgs):\n",
    "#         # Convert the tensor to a PIL image\n",
    "#         pil_image = Image.fromarray((image.squeeze().numpy() * 255).astype('uint8'))\n",
    "#         # Save the image\n",
    "#         pil_image.save(os.path.join(output_folder, f\"image_{idx * len(imgs) + i}.png\"))"
   ]
  },
  {
   "cell_type": "code",
   "execution_count": 15,
   "id": "024345ea",
   "metadata": {},
   "outputs": [],
   "source": [
    "# torch.save(test_loader, f\"results/checkpoint_three/test_loader.pth\")"
   ]
  },
  {
   "cell_type": "code",
   "execution_count": 16,
   "id": "57f3fb82",
   "metadata": {},
   "outputs": [],
   "source": [
    "from torch.utils.data import DataLoader\n",
    "torch.serialization.add_safe_globals([DataLoader])\n",
    "test_loader_data = torch.load(\"results/checkpoint_two/test_loader.pth\", weights_only=False)"
   ]
  },
  {
   "cell_type": "code",
   "execution_count": 17,
   "id": "9bcb8f27",
   "metadata": {},
   "outputs": [],
   "source": [
    "# # load test_loader\n",
    "# run_inference(model, test_loader_data, device)"
   ]
  },
  {
   "cell_type": "code",
   "execution_count": 18,
   "id": "6fa03da0",
   "metadata": {},
   "outputs": [
    {
     "name": "stdout",
     "output_type": "stream",
     "text": [
      "<_io.BufferedReader name='predictions\\\\image.png'>\n"
     ]
    },
    {
     "data": {
      "image/png": "[encoded data removed]",
      "text/plain": [
       "<Figure size 640x480 with 1 Axes>"
      ]
     },
     "metadata": {},
     "output_type": "display_data"
    },
    {
     "name": "stdout",
     "output_type": "stream",
     "text": [
      "Predicted Expression: ['7+9']\n",
      "<_io.BufferedReader name='predictions\\\\image_1.png'>\n"
     ]
    },
    {
     "data": {
      "image/png": "[encoded data removed]",
      "text/plain": [
       "<Figure size 640x480 with 1 Axes>"
      ]
     },
     "metadata": {},
     "output_type": "display_data"
    },
    {
     "name": "stdout",
     "output_type": "stream",
     "text": [
      "Predicted Expression: ['2*5']\n",
      "<_io.BufferedReader name='predictions\\\\image_2.png'>\n"
     ]
    },
    {
     "data": {
      "image/png": "[encoded data removed]",
      "text/plain": [
       "<Figure size 640x480 with 1 Axes>"
      ]
     },
     "metadata": {},
     "output_type": "display_data"
    },
    {
     "name": "stdout",
     "output_type": "stream",
     "text": [
      "Predicted Expression: ['83']\n",
      "<_io.BufferedReader name='predictions\\\\image_3.png'>\n"
     ]
    },
    {
     "data": {
      "image/png": "[encoded data removed]",
      "text/plain": [
       "<Figure size 640x480 with 1 Axes>"
      ]
     },
     "metadata": {},
     "output_type": "display_data"
    },
    {
     "name": "stdout",
     "output_type": "stream",
     "text": [
      "Predicted Expression: ['7+7']\n",
      "<_io.BufferedReader name='predictions\\\\image_4.png'>\n"
     ]
    },
    {
     "data": {
      "image/png": "[encoded data removed]",
      "text/plain": [
       "<Figure size 640x480 with 1 Axes>"
      ]
     },
     "metadata": {},
     "output_type": "display_data"
    },
    {
     "name": "stdout",
     "output_type": "stream",
     "text": [
      "Predicted Expression: ['7+7']\n",
      "<_io.BufferedReader name='predictions\\\\image_5.png'>\n"
     ]
    },
    {
     "data": {
      "image/png": "[encoded data removed]",
      "text/plain": [
       "<Figure size 640x480 with 1 Axes>"
      ]
     },
     "metadata": {},
     "output_type": "display_data"
    },
    {
     "name": "stdout",
     "output_type": "stream",
     "text": [
      "Predicted Expression: ['9+9']\n",
      "<_io.BufferedReader name='predictions\\\\image_6.png'>\n"
     ]
    },
    {
     "data": {
      "image/png": "[encoded data removed]",
      "text/plain": [
       "<Figure size 640x480 with 1 Axes>"
      ]
     },
     "metadata": {},
     "output_type": "display_data"
    },
    {
     "name": "stdout",
     "output_type": "stream",
     "text": [
      "Predicted Expression: ['52']\n",
      "<_io.BufferedReader name='predictions\\\\image_7.png'>\n"
     ]
    },
    {
     "data": {
      "image/png": "[encoded data removed]",
      "text/plain": [
       "<Figure size 640x480 with 1 Axes>"
      ]
     },
     "metadata": {},
     "output_type": "display_data"
    },
    {
     "name": "stdout",
     "output_type": "stream",
     "text": [
      "Predicted Expression: ['5+0']\n",
      "<_io.BufferedReader name='predictions\\\\image_8.png'>\n"
     ]
    },
    {
     "data": {
      "image/png": "[encoded data removed]",
      "text/plain": [
       "<Figure size 640x480 with 1 Axes>"
      ]
     },
     "metadata": {},
     "output_type": "display_data"
    },
    {
     "name": "stdout",
     "output_type": "stream",
     "text": [
      "Predicted Expression: ['3*7']\n"
     ]
    }
   ],
   "source": [
    "import os\n",
    "for filename in os.listdir(\"predictions\"):\n",
    "    with open(os.path.join(\"predictions\", filename), \"rb\") as f:\n",
    "        print(f)\n",
    "        infer_single_image(f, model, device)"
   ]
  },
  {
   "cell_type": "code",
   "execution_count": 22,
   "id": "8a965f9e",
   "metadata": {},
   "outputs": [],
   "source": [
    "def evaluate(expression):\n",
    "    result = eval(expression)\n",
    "    print(f\"Expression: {expression} = {result}\")"
   ]
  },
  {
   "cell_type": "code",
   "execution_count": 23,
   "id": "73c618fb",
   "metadata": {},
   "outputs": [
    {
     "data": {
      "image/png": "[encoded data removed]",
      "text/plain": [
       "<Figure size 640x480 with 1 Axes>"
      ]
     },
     "metadata": {},
     "output_type": "display_data"
    },
    {
     "name": "stdout",
     "output_type": "stream",
     "text": [
      "Predicted Expression: ['7+9']\n",
      "Expression: 7+9 = 16\n"
     ]
    }
   ],
   "source": [
    "evaluate(infer_single_image('predictions/image.png', model, device))"
   ]
  },
  {
   "cell_type": "code",
   "execution_count": null,
   "id": "98176351",
   "metadata": {},
   "outputs": [],
   "source": []
  }
 ],
 "metadata": {
  "kernelspec": {
   "display_name": "dev",
   "language": "python",
   "name": "python3"
  },
  "language_info": {
   "codemirror_mode": {
    "name": "ipython",
    "version": 3
   },
   "file_extension": ".py",
   "mimetype": "text/x-python",
   "name": "python",
   "nbconvert_exporter": "python",
   "pygments_lexer": "ipython3",
   "version": "3.12.9"
  }
 },
 "nbformat": 4,
 "nbformat_minor": 5
}
