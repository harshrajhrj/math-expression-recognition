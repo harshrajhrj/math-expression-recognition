{
 "cells": [
  {
   "cell_type": "code",
   "execution_count": 1,
   "id": "975235ec",
   "metadata": {},
   "outputs": [],
   "source": [
    "from train import train, preprocess_generate_expression_dataset, decode_prediction, run_inference, infer_single_image, NUM_CLASSES"
   ]
  },
  {
   "cell_type": "code",
   "execution_count": 2,
   "id": "4983cd11",
   "metadata": {},
   "outputs": [],
   "source": [
    "from mathsolver import MathSolverModel"
   ]
  },
  {
   "cell_type": "code",
   "execution_count": 3,
   "id": "ba6ce756",
   "metadata": {},
   "outputs": [],
   "source": [
    "import torch\n",
    "import matplotlib.pyplot as plt"
   ]
  },
  {
   "cell_type": "code",
   "execution_count": 4,
   "id": "423239fb",
   "metadata": {},
   "outputs": [],
   "source": [
    "device = torch.device(\"cuda\" if torch.cuda.is_available() else \"cpu\")"
   ]
  },
  {
   "cell_type": "code",
   "execution_count": null,
   "id": "ecaab84b",
   "metadata": {},
   "outputs": [],
   "source": [
    "# train_loader, test_loader, val_loader = preprocess_generate_expression_dataset(num_samples=20000, batch_size=32)"
   ]
  },
  {
   "cell_type": "code",
   "execution_count": null,
   "id": "8074ebf7",
   "metadata": {},
   "outputs": [
    {
     "name": "stdout",
     "output_type": "stream",
     "text": [
      "Epoch 1/20: Loss = 2.7028\n",
      "Validation Loss = 1.7726\n",
      "Validation loss decreased (inf --> 111.671173).  Saving model ...\n",
      "Epoch 2/20: Loss = 0.9233\n",
      "Validation Loss = 0.1289\n",
      "Validation loss decreased (111.671173 --> 8.119804).  Saving model ...\n",
      "Epoch 3/20: Loss = 0.2928\n",
      "Validation Loss = 0.1496\n",
      "EarlyStopping counter: 1 out of 5\n",
      "Epoch 4/20: Loss = 0.1825\n",
      "Validation Loss = -0.0191\n",
      "Validation loss decreased (8.119804 --> -1.200905).  Saving model ...\n",
      "Epoch 5/20: Loss = 0.1335\n",
      "Validation Loss = 0.1221\n",
      "EarlyStopping counter: 1 out of 5\n",
      "Epoch 6/20: Loss = 0.0684\n",
      "Validation Loss = 0.0606\n",
      "EarlyStopping counter: 2 out of 5\n",
      "Epoch 7/20: Loss = 0.0521\n",
      "Validation Loss = 0.0572\n",
      "EarlyStopping counter: 3 out of 5\n",
      "Epoch 8/20: Loss = 0.0462\n",
      "Validation Loss = 0.0633\n",
      "EarlyStopping counter: 4 out of 5\n",
      "Epoch 9/20: Loss = 0.0419\n",
      "Validation Loss = 0.0431\n",
      "EarlyStopping counter: 5 out of 5\n",
      "Early stopping triggered\n"
     ]
    }
   ],
   "source": [
    "# epoch_vs_loss = train(train_loader=train_loader, val_loader=val_loader, num_epochs=20, device=device, step_size=5)"
   ]
  },
  {
   "cell_type": "code",
   "execution_count": null,
   "id": "35a058ce",
   "metadata": {},
   "outputs": [],
   "source": [
    "metrics_folder = \"metrics\""
   ]
  },
  {
   "cell_type": "code",
   "execution_count": null,
   "id": "3af7d976",
   "metadata": {},
   "outputs": [],
   "source": [
    "# save epoch vs loss to metrics_folder\n",
    "with open(f\"{metrics_folder}/checkpoint_three/epoch_vs_loss.txt\", \"w\") as f:\n",
    "    for epoch, loss in epoch_vs_loss.items():\n",
    "        f.write(f\"Epoch {epoch + 1}: {loss}\\n\")"
   ]
  },
  {
   "cell_type": "code",
   "execution_count": null,
   "id": "08c92601",
   "metadata": {},
   "outputs": [],
   "source": [
    "plt.plot(epoch_vs_loss.keys(), epoch_vs_loss.values(), label='Train Loss')\n",
    "plt.title('Train Loss vs Epochs')\n",
    "plt.xlabel('Epochs')\n",
    "plt.ylabel('Train Loss')\n",
    "plt.legend()\n",
    "plt.show()"
   ]
  },
  {
   "cell_type": "code",
   "execution_count": null,
   "id": "9542c648",
   "metadata": {},
   "outputs": [
    {
     "data": {
      "text/plain": [
       "<All keys matched successfully>"
      ]
     },
     "execution_count": 11,
     "metadata": {},
     "output_type": "execute_result"
    }
   ],
   "source": [
    "model = MathSolverModel(num_classes=NUM_CLASSES).to(device)\n",
    "model.load_state_dict(torch.load(\"math_solver.pth\"))"
   ]
  },
  {
   "cell_type": "code",
   "execution_count": null,
   "id": "2779db32",
   "metadata": {},
   "outputs": [],
   "source": [
    "# for name, param in model.named_parameters():\n",
    "#     # if param.requires_grad:\n",
    "#         print(name, param.shape)"
   ]
  },
  {
   "cell_type": "code",
   "execution_count": null,
   "id": "01e7a99f",
   "metadata": {},
   "outputs": [
    {
     "name": "stdout",
     "output_type": "stream",
     "text": [
      "Block: 0, Output shape: torch.Size([1, 64, 32, 32])\n",
      "Block: 1, Output shape: torch.Size([1, 64, 32, 32])\n",
      "Block: 2, Output shape: torch.Size([1, 64, 16, 16])\n",
      "Block: 3, Output shape: torch.Size([1, 128, 16, 16])\n",
      "Block: 4, Output shape: torch.Size([1, 128, 16, 16])\n",
      "Block: 5, Output shape: torch.Size([1, 128, 8, 8])\n"
     ]
    }
   ],
   "source": [
    "sample_tensor = torch.randn(1, 1, 32, 32).to(device)  # Example input tensor\n",
    "x = sample_tensor\n",
    "for name, layer in model.cnn.named_children():\n",
    "    x = layer(x)\n",
    "    print(f\"Block: {name}, Output shape: {x.shape}\")"
   ]
  },
  {
   "cell_type": "code",
   "execution_count": null,
   "id": "fb646282",
   "metadata": {},
   "outputs": [
    {
     "name": "stdout",
     "output_type": "stream",
     "text": [
      "torch.Size([1, 8, 1024])\n"
     ]
    }
   ],
   "source": [
    "b, c, h, w = x.size()\n",
    "x = x.permute(0, 3, 1, 2).contiguous()  # (B, W, C, H)\n",
    "x = x.view(b, w, c * h)  # (B, W, C*H)\n",
    "print(x.shape)\n",
    "for name, layer in model.rnn.named_children():\n",
    "    x = layer(x)\n",
    "    print(f\"Block: {name}, Output shape: {x.shape}\")"
   ]
  },
  {
   "cell_type": "code",
   "execution_count": null,
   "id": "643952d9",
   "metadata": {},
   "outputs": [],
   "source": [
    "# from PIL import Image\n",
    "# import os\n",
    "\n",
    "# # Create a folder to save the images\n",
    "# output_folder = \"test_images\"\n",
    "# os.makedirs(output_folder, exist_ok=True)\n",
    "\n",
    "# # Save images from test_loader\n",
    "# for idx, (imgs, labels, input_lengths, label_lengths) in enumerate(test_loader):\n",
    "#     for i, image in enumerate(imgs):\n",
    "#         # Convert the tensor to a PIL image\n",
    "#         pil_image = Image.fromarray((image.squeeze().numpy() * 255).astype('uint8'))\n",
    "#         # Save the image\n",
    "#         pil_image.save(os.path.join(output_folder, f\"image_{idx * len(imgs) + i}.png\"))"
   ]
  },
  {
   "cell_type": "code",
   "execution_count": null,
   "id": "024345ea",
   "metadata": {},
   "outputs": [],
   "source": [
    "# torch.save(test_loader, f\"test_loader/test_loader.pth\")"
   ]
  },
  {
   "cell_type": "code",
   "execution_count": null,
   "id": "57f3fb82",
   "metadata": {},
   "outputs": [],
   "source": [
    "# from torch.utils.data import DataLoader\n",
    "# torch.serialization.add_safe_globals([DataLoader])\n",
    "# test_loader_data = torch.load(\"test_loader/test_loader.pth\", weights_only=False)"
   ]
  },
  {
   "cell_type": "code",
   "execution_count": null,
   "id": "9bcb8f27",
   "metadata": {},
   "outputs": [],
   "source": [
    "# # load test_loader\n",
    "# run_inference(model, test_loader_data, device)"
   ]
  },
  {
   "cell_type": "code",
   "execution_count": null,
   "id": "6fa03da0",
   "metadata": {},
   "outputs": [
    {
     "ename": "NameError",
     "evalue": "name 'infer_single_image' is not defined",
     "output_type": "error",
     "traceback": [
      "\u001b[1;31m---------------------------------------------------------------------------\u001b[0m",
      "\u001b[1;31mNameError\u001b[0m                                 Traceback (most recent call last)",
      "Cell \u001b[1;32mIn[1], line 1\u001b[0m\n\u001b[1;32m----> 1\u001b[0m \u001b[43minfer_single_image\u001b[49m(\u001b[38;5;124m\"\u001b[39m\u001b[38;5;124mimage.jpeg\u001b[39m\u001b[38;5;124m\"\u001b[39m, model, device)\n",
      "\u001b[1;31mNameError\u001b[0m: name 'infer_single_image' is not defined"
     ]
    }
   ],
   "source": [
    "infer_single_image(\"image.jpeg\", model, device)"
   ]
  },
  {
   "cell_type": "code",
   "execution_count": null,
   "id": "73c618fb",
   "metadata": {},
   "outputs": [],
   "source": []
  }
 ],
 "metadata": {
  "kernelspec": {
   "display_name": "dev",
   "language": "python",
   "name": "python3"
  },
  "language_info": {
   "codemirror_mode": {
    "name": "ipython",
    "version": 3
   },
   "file_extension": ".py",
   "mimetype": "text/x-python",
   "name": "python",
   "nbconvert_exporter": "python",
   "pygments_lexer": "ipython3",
   "version": "3.12.9"
  }
 },
 "nbformat": 4,
 "nbformat_minor": 5
}
